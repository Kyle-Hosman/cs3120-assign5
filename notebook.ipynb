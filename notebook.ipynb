{
 "cells": [
  {
   "cell_type": "code",
   "execution_count": 1,
   "id": "539c0661",
   "metadata": {
    "_cell_guid": "b1076dfc-b9ad-4769-8c92-a6c4dae69d19",
    "_uuid": "8f2839f25d086af736a60e9eeb907d3b93b6e0e5",
    "execution": {
     "iopub.execute_input": "2024-10-01T18:46:34.715410Z",
     "iopub.status.busy": "2024-10-01T18:46:34.714964Z",
     "iopub.status.idle": "2024-10-01T18:46:35.600448Z",
     "shell.execute_reply": "2024-10-01T18:46:35.599264Z"
    },
    "papermill": {
     "duration": 0.896518,
     "end_time": "2024-10-01T18:46:35.603425",
     "exception": false,
     "start_time": "2024-10-01T18:46:34.706907",
     "status": "completed"
    },
    "tags": []
   },
   "outputs": [
    {
     "name": "stdout",
     "output_type": "stream",
     "text": [
      "/kaggle/input/cs3120-ames-home-prices/sample_submission.csv\n",
      "/kaggle/input/cs3120-ames-home-prices/data_description.txt\n",
      "/kaggle/input/cs3120-ames-home-prices/train.csv\n",
      "/kaggle/input/cs3120-ames-home-prices/test.csv\n"
     ]
    }
   ],
   "source": [
    "# This Python 3 environment comes with many helpful analytics libraries installed\n",
    "# It is defined by the kaggle/python Docker image: https://github.com/kaggle/docker-python\n",
    "# For example, here's several helpful packages to load\n",
    "\n",
    "import numpy as np # linear algebra\n",
    "import pandas as pd # data processing, CSV file I/O (e.g. pd.read_csv)\n",
    "\n",
    "# Input data files are available in the read-only \"../input/\" directory\n",
    "# For example, running this (by clicking run or pressing Shift+Enter) will list all files under the input directory\n",
    "\n",
    "import os\n",
    "for dirname, _, filenames in os.walk('/kaggle/input'):\n",
    "    for filename in filenames:\n",
    "        print(os.path.join(dirname, filename))\n",
    "\n",
    "# You can write up to 20GB to the current directory (/kaggle/working/) that gets preserved as output when you create a version using \"Save & Run All\" \n",
    "# You can also write temporary files to /kaggle/temp/, but they won't be saved outside of the current session"
   ]
  },
  {
   "cell_type": "markdown",
   "id": "300bfbc9",
   "metadata": {
    "papermill": {
     "duration": 0.005535,
     "end_time": "2024-10-01T18:46:35.615113",
     "exception": false,
     "start_time": "2024-10-01T18:46:35.609578",
     "status": "completed"
    },
    "tags": []
   },
   "source": [
    "Above is the standard code cell that Kaggle will include anytime you are in a competition and click on, \"New Notebook\". As you can see, the idea is to list out the (data) files that are a part of this competition. The general process you'll want to follow is:\n",
    "\n",
    "1. Load `train.csv`\n",
    "2. Split train.csv into your own train and test (or validation) dataset splits\n",
    "3. Decide which features you want to include in your model (this may also include your own *Feature Engineering* steps\n",
    "3. Train a model using your own train split, tune the model with your test split\n",
    "4. After you're satisfied with your model, load the `test.csv` file, and then make predictions using your trained model\n",
    "5. Save your predictions in a file, e.g. submission.csv, then submit these predictions to the competition (see [Submitting Predictions](https://www.kaggle.com/docs/competitions#submitting-predictions) for more details)\n",
    "\n",
    "Note: You will likely want to interate between steps 2. and 5. several times, since you can always make a submission, and see how accurate your model is on the Kaggle competition test dataset (which is different from your test split), and then go back try something different with steps 2. and 3. again. \n",
    "\n",
    "Now, we'll do step 1., and load the train dataset. \n"
   ]
  },
  {
   "cell_type": "code",
   "execution_count": 2,
   "id": "c5e7a9f0",
   "metadata": {
    "execution": {
     "iopub.execute_input": "2024-10-01T18:46:35.628804Z",
     "iopub.status.busy": "2024-10-01T18:46:35.628178Z",
     "iopub.status.idle": "2024-10-01T18:46:35.670875Z",
     "shell.execute_reply": "2024-10-01T18:46:35.669502Z"
    },
    "papermill": {
     "duration": 0.05297,
     "end_time": "2024-10-01T18:46:35.673925",
     "exception": false,
     "start_time": "2024-10-01T18:46:35.620955",
     "status": "completed"
    },
    "tags": []
   },
   "outputs": [],
   "source": [
    "df = pd.read_csv('/kaggle/input/cs3120-ames-home-prices/train.csv')"
   ]
  },
  {
   "cell_type": "markdown",
   "id": "d2bf136c",
   "metadata": {
    "papermill": {
     "duration": 0.005581,
     "end_time": "2024-10-01T18:46:35.685454",
     "exception": false,
     "start_time": "2024-10-01T18:46:35.679873",
     "status": "completed"
    },
    "tags": []
   },
   "source": [
    "We'll now slit the training dataset into separate train and test splits. However, remember that you could instead use a Cross-Validation approach, which case you might not need this. \n",
    "\n",
    "Before doing so, you'll likely want to create an `X`, which will hold all your features (or predictors, or independent variables, etc.), and a `y`, which will be the outcome (or target, or dependent variable, etc.). You will definitely want to use more than just one feature, as is done below. \n",
    "\n",
    "You may want to go back to the last Kaggle course you did, or the notebook from [Assign 4](https://msudenver.instructure.com/courses/98353/assignments/1311195)."
   ]
  },
  {
   "cell_type": "code",
   "execution_count": 3,
   "id": "506f371e",
   "metadata": {
    "execution": {
     "iopub.execute_input": "2024-10-01T18:46:35.699152Z",
     "iopub.status.busy": "2024-10-01T18:46:35.698649Z",
     "iopub.status.idle": "2024-10-01T18:46:37.134358Z",
     "shell.execute_reply": "2024-10-01T18:46:37.133333Z"
    },
    "papermill": {
     "duration": 1.445908,
     "end_time": "2024-10-01T18:46:37.137249",
     "exception": false,
     "start_time": "2024-10-01T18:46:35.691341",
     "status": "completed"
    },
    "tags": []
   },
   "outputs": [],
   "source": [
    "from sklearn.model_selection import train_test_split\n",
    "\n",
    "X = df[['Overall Qual','Lot Area','Gr Liv Area','Garage Cars','Fireplaces','Year Built',\n",
    "        'Year Remod/Add']]\n",
    "y = df['SalePrice']\n",
    "\n",
    "X_train, X_test, y_train, y_test = train_test_split(X, y, test_size=0.1, random_state=1)\n"
   ]
  },
  {
   "cell_type": "code",
   "execution_count": 4,
   "id": "45194030",
   "metadata": {
    "execution": {
     "iopub.execute_input": "2024-10-01T18:46:37.150856Z",
     "iopub.status.busy": "2024-10-01T18:46:37.150234Z",
     "iopub.status.idle": "2024-10-01T18:46:37.155649Z",
     "shell.execute_reply": "2024-10-01T18:46:37.154411Z"
    },
    "papermill": {
     "duration": 0.015227,
     "end_time": "2024-10-01T18:46:37.158261",
     "exception": false,
     "start_time": "2024-10-01T18:46:37.143034",
     "status": "completed"
    },
    "tags": []
   },
   "outputs": [],
   "source": [
    "# Remove any missing values (you may want to do something different here too)\n"
   ]
  },
  {
   "cell_type": "code",
   "execution_count": 5,
   "id": "540608cb",
   "metadata": {
    "execution": {
     "iopub.execute_input": "2024-10-01T18:46:37.171937Z",
     "iopub.status.busy": "2024-10-01T18:46:37.171475Z",
     "iopub.status.idle": "2024-10-01T18:46:37.997627Z",
     "shell.execute_reply": "2024-10-01T18:46:37.996471Z"
    },
    "papermill": {
     "duration": 0.836293,
     "end_time": "2024-10-01T18:46:38.000568",
     "exception": false,
     "start_time": "2024-10-01T18:46:37.164275",
     "status": "completed"
    },
    "tags": []
   },
   "outputs": [
    {
     "data": {
      "text/html": [
       "<style>#sk-container-id-1 {color: black;background-color: white;}#sk-container-id-1 pre{padding: 0;}#sk-container-id-1 div.sk-toggleable {background-color: white;}#sk-container-id-1 label.sk-toggleable__label {cursor: pointer;display: block;width: 100%;margin-bottom: 0;padding: 0.3em;box-sizing: border-box;text-align: center;}#sk-container-id-1 label.sk-toggleable__label-arrow:before {content: \"▸\";float: left;margin-right: 0.25em;color: #696969;}#sk-container-id-1 label.sk-toggleable__label-arrow:hover:before {color: black;}#sk-container-id-1 div.sk-estimator:hover label.sk-toggleable__label-arrow:before {color: black;}#sk-container-id-1 div.sk-toggleable__content {max-height: 0;max-width: 0;overflow: hidden;text-align: left;background-color: #f0f8ff;}#sk-container-id-1 div.sk-toggleable__content pre {margin: 0.2em;color: black;border-radius: 0.25em;background-color: #f0f8ff;}#sk-container-id-1 input.sk-toggleable__control:checked~div.sk-toggleable__content {max-height: 200px;max-width: 100%;overflow: auto;}#sk-container-id-1 input.sk-toggleable__control:checked~label.sk-toggleable__label-arrow:before {content: \"▾\";}#sk-container-id-1 div.sk-estimator input.sk-toggleable__control:checked~label.sk-toggleable__label {background-color: #d4ebff;}#sk-container-id-1 div.sk-label input.sk-toggleable__control:checked~label.sk-toggleable__label {background-color: #d4ebff;}#sk-container-id-1 input.sk-hidden--visually {border: 0;clip: rect(1px 1px 1px 1px);clip: rect(1px, 1px, 1px, 1px);height: 1px;margin: -1px;overflow: hidden;padding: 0;position: absolute;width: 1px;}#sk-container-id-1 div.sk-estimator {font-family: monospace;background-color: #f0f8ff;border: 1px dotted black;border-radius: 0.25em;box-sizing: border-box;margin-bottom: 0.5em;}#sk-container-id-1 div.sk-estimator:hover {background-color: #d4ebff;}#sk-container-id-1 div.sk-parallel-item::after {content: \"\";width: 100%;border-bottom: 1px solid gray;flex-grow: 1;}#sk-container-id-1 div.sk-label:hover label.sk-toggleable__label {background-color: #d4ebff;}#sk-container-id-1 div.sk-serial::before {content: \"\";position: absolute;border-left: 1px solid gray;box-sizing: border-box;top: 0;bottom: 0;left: 50%;z-index: 0;}#sk-container-id-1 div.sk-serial {display: flex;flex-direction: column;align-items: center;background-color: white;padding-right: 0.2em;padding-left: 0.2em;position: relative;}#sk-container-id-1 div.sk-item {position: relative;z-index: 1;}#sk-container-id-1 div.sk-parallel {display: flex;align-items: stretch;justify-content: center;background-color: white;position: relative;}#sk-container-id-1 div.sk-item::before, #sk-container-id-1 div.sk-parallel-item::before {content: \"\";position: absolute;border-left: 1px solid gray;box-sizing: border-box;top: 0;bottom: 0;left: 50%;z-index: -1;}#sk-container-id-1 div.sk-parallel-item {display: flex;flex-direction: column;z-index: 1;position: relative;background-color: white;}#sk-container-id-1 div.sk-parallel-item:first-child::after {align-self: flex-end;width: 50%;}#sk-container-id-1 div.sk-parallel-item:last-child::after {align-self: flex-start;width: 50%;}#sk-container-id-1 div.sk-parallel-item:only-child::after {width: 0;}#sk-container-id-1 div.sk-dashed-wrapped {border: 1px dashed gray;margin: 0 0.4em 0.5em 0.4em;box-sizing: border-box;padding-bottom: 0.4em;background-color: white;}#sk-container-id-1 div.sk-label label {font-family: monospace;font-weight: bold;display: inline-block;line-height: 1.2em;}#sk-container-id-1 div.sk-label-container {text-align: center;}#sk-container-id-1 div.sk-container {/* jupyter's `normalize.less` sets `[hidden] { display: none; }` but bootstrap.min.css set `[hidden] { display: none !important; }` so we also need the `!important` here to be able to override the default hidden behavior on the sphinx rendered scikit-learn.org. See: https://github.com/scikit-learn/scikit-learn/issues/21755 */display: inline-block !important;position: relative;}#sk-container-id-1 div.sk-text-repr-fallback {display: none;}</style><div id=\"sk-container-id-1\" class=\"sk-top-container\"><div class=\"sk-text-repr-fallback\"><pre>HistGradientBoostingRegressor(random_state=2)</pre><b>In a Jupyter environment, please rerun this cell to show the HTML representation or trust the notebook. <br />On GitHub, the HTML representation is unable to render, please try loading this page with nbviewer.org.</b></div><div class=\"sk-container\" hidden><div class=\"sk-item\"><div class=\"sk-estimator sk-toggleable\"><input class=\"sk-toggleable__control sk-hidden--visually\" id=\"sk-estimator-id-1\" type=\"checkbox\" checked><label for=\"sk-estimator-id-1\" class=\"sk-toggleable__label sk-toggleable__label-arrow\">HistGradientBoostingRegressor</label><div class=\"sk-toggleable__content\"><pre>HistGradientBoostingRegressor(random_state=2)</pre></div></div></div></div></div>"
      ],
      "text/plain": [
       "HistGradientBoostingRegressor(random_state=2)"
      ]
     },
     "execution_count": 5,
     "metadata": {},
     "output_type": "execute_result"
    }
   ],
   "source": [
    "# Train a model\n",
    "from sklearn.ensemble import HistGradientBoostingRegressor\n",
    "\n",
    "best_params = {'learning_rate': 0.1, 'n_estimators': 101}\n",
    "model = HistGradientBoostingRegressor(random_state=2)\n",
    "model.fit(X_train, y_train)"
   ]
  },
  {
   "cell_type": "code",
   "execution_count": 6,
   "id": "b63e0cb6",
   "metadata": {
    "execution": {
     "iopub.execute_input": "2024-10-01T18:46:38.015715Z",
     "iopub.status.busy": "2024-10-01T18:46:38.015158Z",
     "iopub.status.idle": "2024-10-01T18:46:42.185075Z",
     "shell.execute_reply": "2024-10-01T18:46:42.184149Z"
    },
    "papermill": {
     "duration": 4.179961,
     "end_time": "2024-10-01T18:46:42.187590",
     "exception": false,
     "start_time": "2024-10-01T18:46:38.007629",
     "status": "completed"
    },
    "tags": []
   },
   "outputs": [
    {
     "name": "stdout",
     "output_type": "stream",
     "text": [
      "Model Performance Metrics:\n",
      "Mean Absolute Error (MAE): 22566.41\n",
      "Root Mean Squared Error (RMSE): 36906.48\n",
      "R^2 Score: 0.84\n",
      "Cross-Validation R^2 Scores: [0.85504683 0.89695721 0.85501502 0.81268654 0.78228346]\n",
      "Average Cross-Validation R^2: 0.84\n"
     ]
    }
   ],
   "source": [
    "# Tune your model (try different hyperparameters, try different features, etc.)\n",
    "from sklearn.metrics import mean_squared_error, r2_score, mean_absolute_error\n",
    "from sklearn.model_selection import GridSearchCV\n",
    "from sklearn.model_selection import cross_val_score\n",
    "\n",
    "y_pred = model.predict(X_test)\n",
    "print(\"Model Performance Metrics:\")\n",
    "print(f\"Mean Absolute Error (MAE): {mean_absolute_error(y_test, y_pred):.2f}\")\n",
    "print(f\"Root Mean Squared Error (RMSE): {mean_squared_error(y_test, y_pred, squared=False):.2f}\")\n",
    "print(f\"R^2 Score: {r2_score(y_test, y_pred):.2f}\")\n",
    "\n",
    "# print(\"Total Missing Values in X_sub:\", X_sub.isnull().sum().sum())\n",
    "\n",
    "# Use grid search to find the best hyperparameters for the Gradient Boosting Regressor\n",
    "# param_grid = {\n",
    "#     'n_estimators': list(range(1, 402, 50)),\n",
    "#     'learning_rate': [0.005, 0.01, 0.05, 0.1, 0.5]\n",
    "# }\n",
    "\n",
    "# model_gb = GradientBoostingRegressor(random_state=2)\n",
    "# grid_search = GridSearchCV(model_gb, param_grid, cv=5, scoring='r2')\n",
    "# grid_search.fit(X, y)\n",
    "\n",
    "# print(f\"** Best R2 = {grid_search.best_score_:1.2E} **\")\n",
    "# print(f\"** Best Parameters = {grid_search.best_params_} **\")\n",
    "\n",
    "\n",
    "# Use cross-validation to get a stable R² estimate\n",
    "cv_scores = cross_val_score(model, X, y, cv=5, scoring='r2')\n",
    "print(f\"Cross-Validation R^2 Scores: {cv_scores}\")\n",
    "print(f\"Average Cross-Validation R^2: {cv_scores.mean():.2f}\")"
   ]
  },
  {
   "cell_type": "markdown",
   "id": "f6449f2a",
   "metadata": {
    "papermill": {
     "duration": 0.006193,
     "end_time": "2024-10-01T18:46:42.200999",
     "exception": false,
     "start_time": "2024-10-01T18:46:42.194806",
     "status": "completed"
    },
    "tags": []
   },
   "source": [
    "Once you've trained your model, you can then make predictions and submit them as a solution to the competition. You first need to load the separate `test.csv` dataset, then use your model to make predictions for this data. "
   ]
  },
  {
   "cell_type": "code",
   "execution_count": 7,
   "id": "0a602080",
   "metadata": {
    "execution": {
     "iopub.execute_input": "2024-10-01T18:46:42.215460Z",
     "iopub.status.busy": "2024-10-01T18:46:42.214547Z",
     "iopub.status.idle": "2024-10-01T18:46:42.251467Z",
     "shell.execute_reply": "2024-10-01T18:46:42.250349Z"
    },
    "papermill": {
     "duration": 0.047184,
     "end_time": "2024-10-01T18:46:42.254289",
     "exception": false,
     "start_time": "2024-10-01T18:46:42.207105",
     "status": "completed"
    },
    "tags": []
   },
   "outputs": [],
   "source": [
    "df_sub = pd.read_csv('/kaggle/input/cs3120-ames-home-prices/test.csv')\n",
    "\n",
    "X_sub = df_sub[['Overall Qual','Lot Area','Gr Liv Area','Garage Cars','Fireplaces','Year Built',\n",
    "        'Year Remod/Add']]\n"
   ]
  },
  {
   "cell_type": "code",
   "execution_count": 8,
   "id": "2d9f9f3c",
   "metadata": {
    "execution": {
     "iopub.execute_input": "2024-10-01T18:46:42.269580Z",
     "iopub.status.busy": "2024-10-01T18:46:42.269125Z",
     "iopub.status.idle": "2024-10-01T18:46:42.287278Z",
     "shell.execute_reply": "2024-10-01T18:46:42.286179Z"
    },
    "papermill": {
     "duration": 0.028455,
     "end_time": "2024-10-01T18:46:42.290098",
     "exception": false,
     "start_time": "2024-10-01T18:46:42.261643",
     "status": "completed"
    },
    "tags": []
   },
   "outputs": [],
   "source": [
    "df_sub['SalePrice'] = model.predict(X_sub)"
   ]
  },
  {
   "cell_type": "markdown",
   "id": "a4fa9e4d",
   "metadata": {
    "papermill": {
     "duration": 0.00646,
     "end_time": "2024-10-01T18:46:42.304257",
     "exception": false,
     "start_time": "2024-10-01T18:46:42.297797",
     "status": "completed"
    },
    "tags": []
   },
   "source": [
    "You likely want to quickly check your predictions to see if they make sense. Note that you don't have the true `y` values, so you can't compare them, but you can at least check that they make sense. "
   ]
  },
  {
   "cell_type": "code",
   "execution_count": 9,
   "id": "059c5f47",
   "metadata": {
    "execution": {
     "iopub.execute_input": "2024-10-01T18:46:42.318770Z",
     "iopub.status.busy": "2024-10-01T18:46:42.318317Z",
     "iopub.status.idle": "2024-10-01T18:46:42.341812Z",
     "shell.execute_reply": "2024-10-01T18:46:42.340511Z"
    },
    "papermill": {
     "duration": 0.033796,
     "end_time": "2024-10-01T18:46:42.344507",
     "exception": false,
     "start_time": "2024-10-01T18:46:42.310711",
     "status": "completed"
    },
    "tags": []
   },
   "outputs": [
    {
     "data": {
      "text/html": [
       "<div>\n",
       "<style scoped>\n",
       "    .dataframe tbody tr th:only-of-type {\n",
       "        vertical-align: middle;\n",
       "    }\n",
       "\n",
       "    .dataframe tbody tr th {\n",
       "        vertical-align: top;\n",
       "    }\n",
       "\n",
       "    .dataframe thead th {\n",
       "        text-align: right;\n",
       "    }\n",
       "</style>\n",
       "<table border=\"1\" class=\"dataframe\">\n",
       "  <thead>\n",
       "    <tr style=\"text-align: right;\">\n",
       "      <th></th>\n",
       "      <th>Id</th>\n",
       "      <th>SalePrice</th>\n",
       "      <th>Overall Qual</th>\n",
       "      <th>Lot Area</th>\n",
       "      <th>Gr Liv Area</th>\n",
       "      <th>Garage Cars</th>\n",
       "      <th>Fireplaces</th>\n",
       "      <th>Year Built</th>\n",
       "      <th>Year Remod/Add</th>\n",
       "    </tr>\n",
       "  </thead>\n",
       "  <tbody>\n",
       "    <tr>\n",
       "      <th>0</th>\n",
       "      <td>1000</td>\n",
       "      <td>169649.735062</td>\n",
       "      <td>7</td>\n",
       "      <td>10300</td>\n",
       "      <td>1710</td>\n",
       "      <td>2.0</td>\n",
       "      <td>0</td>\n",
       "      <td>1921</td>\n",
       "      <td>1950</td>\n",
       "    </tr>\n",
       "    <tr>\n",
       "      <th>1</th>\n",
       "      <td>1001</td>\n",
       "      <td>128346.514149</td>\n",
       "      <td>5</td>\n",
       "      <td>8750</td>\n",
       "      <td>1202</td>\n",
       "      <td>1.0</td>\n",
       "      <td>0</td>\n",
       "      <td>1956</td>\n",
       "      <td>1956</td>\n",
       "    </tr>\n",
       "    <tr>\n",
       "      <th>2</th>\n",
       "      <td>1002</td>\n",
       "      <td>99420.867693</td>\n",
       "      <td>5</td>\n",
       "      <td>9045</td>\n",
       "      <td>2256</td>\n",
       "      <td>0.0</td>\n",
       "      <td>0</td>\n",
       "      <td>1910</td>\n",
       "      <td>1950</td>\n",
       "    </tr>\n",
       "    <tr>\n",
       "      <th>3</th>\n",
       "      <td>1003</td>\n",
       "      <td>372362.770867</td>\n",
       "      <td>9</td>\n",
       "      <td>13514</td>\n",
       "      <td>1808</td>\n",
       "      <td>3.0</td>\n",
       "      <td>1</td>\n",
       "      <td>2008</td>\n",
       "      <td>2008</td>\n",
       "    </tr>\n",
       "    <tr>\n",
       "      <th>4</th>\n",
       "      <td>1004</td>\n",
       "      <td>137351.042828</td>\n",
       "      <td>6</td>\n",
       "      <td>10454</td>\n",
       "      <td>1105</td>\n",
       "      <td>1.0</td>\n",
       "      <td>0</td>\n",
       "      <td>1957</td>\n",
       "      <td>1957</td>\n",
       "    </tr>\n",
       "  </tbody>\n",
       "</table>\n",
       "</div>"
      ],
      "text/plain": [
       "     Id      SalePrice  Overall Qual  Lot Area  Gr Liv Area  Garage Cars  \\\n",
       "0  1000  169649.735062             7     10300         1710          2.0   \n",
       "1  1001  128346.514149             5      8750         1202          1.0   \n",
       "2  1002   99420.867693             5      9045         2256          0.0   \n",
       "3  1003  372362.770867             9     13514         1808          3.0   \n",
       "4  1004  137351.042828             6     10454         1105          1.0   \n",
       "\n",
       "   Fireplaces  Year Built  Year Remod/Add  \n",
       "0           0        1921            1950  \n",
       "1           0        1956            1956  \n",
       "2           0        1910            1950  \n",
       "3           1        2008            2008  \n",
       "4           0        1957            1957  "
      ]
     },
     "execution_count": 9,
     "metadata": {},
     "output_type": "execute_result"
    }
   ],
   "source": [
    "df_sub[['Id', 'SalePrice','Overall Qual','Lot Area','Gr Liv Area','Garage Cars','Fireplaces','Year Built','Year Remod/Add']].head()"
   ]
  },
  {
   "cell_type": "markdown",
   "id": "5b0957f0",
   "metadata": {
    "papermill": {
     "duration": 0.006348,
     "end_time": "2024-10-01T18:46:42.357424",
     "exception": false,
     "start_time": "2024-10-01T18:46:42.351076",
     "status": "completed"
    },
    "tags": []
   },
   "source": [
    "Although it doesn't seem that important, the following step of saving your test set predictions is necessary in order to make a submission to the competition. "
   ]
  },
  {
   "cell_type": "code",
   "execution_count": 10,
   "id": "2b7e5646",
   "metadata": {
    "execution": {
     "iopub.execute_input": "2024-10-01T18:46:42.372954Z",
     "iopub.status.busy": "2024-10-01T18:46:42.372055Z",
     "iopub.status.idle": "2024-10-01T18:46:42.385132Z",
     "shell.execute_reply": "2024-10-01T18:46:42.383982Z"
    },
    "papermill": {
     "duration": 0.024056,
     "end_time": "2024-10-01T18:46:42.388097",
     "exception": false,
     "start_time": "2024-10-01T18:46:42.364041",
     "status": "completed"
    },
    "tags": []
   },
   "outputs": [],
   "source": [
    "df_sub[['Id', 'SalePrice']].to_csv('/kaggle/working/submission.csv', index=False)"
   ]
  },
  {
   "cell_type": "code",
   "execution_count": null,
   "id": "75439c13",
   "metadata": {
    "papermill": {
     "duration": 0.006516,
     "end_time": "2024-10-01T18:46:42.401279",
     "exception": false,
     "start_time": "2024-10-01T18:46:42.394763",
     "status": "completed"
    },
    "tags": []
   },
   "outputs": [],
   "source": []
  }
 ],
 "metadata": {
  "kaggle": {
   "accelerator": "none",
   "dataSources": [
    {
     "databundleVersionId": 9667192,
     "sourceId": 85335,
     "sourceType": "competition"
    }
   ],
   "dockerImageVersionId": 30775,
   "isGpuEnabled": false,
   "isInternetEnabled": false,
   "language": "python",
   "sourceType": "notebook"
  },
  "kernelspec": {
   "display_name": "Python 3",
   "language": "python",
   "name": "python3"
  },
  "language_info": {
   "codemirror_mode": {
    "name": "ipython",
    "version": 3
   },
   "file_extension": ".py",
   "mimetype": "text/x-python",
   "name": "python",
   "nbconvert_exporter": "python",
   "pygments_lexer": "ipython3",
   "version": "3.10.14"
  },
  "papermill": {
   "default_parameters": {},
   "duration": 11.765094,
   "end_time": "2024-10-01T18:46:43.029424",
   "environment_variables": {},
   "exception": null,
   "input_path": "__notebook__.ipynb",
   "output_path": "__notebook__.ipynb",
   "parameters": {},
   "start_time": "2024-10-01T18:46:31.264330",
   "version": "2.6.0"
  }
 },
 "nbformat": 4,
 "nbformat_minor": 5
}
